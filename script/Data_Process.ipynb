{
 "cells": [
  {
   "cell_type": "markdown",
   "id": "a7c1b07a-95fc-4f58-9561-0d4d8133dd21",
   "metadata": {},
   "source": [
    "# DATA PROCESSING : Mini Projet"
   ]
  },
  {
   "cell_type": "markdown",
   "id": "a06e491a-973b-4ab9-a3fd-89ab8b2ec41d",
   "metadata": {},
   "source": [
    "Le but de cet exercice est d'extraire un sous-ensemble de données à partir d'une base de données plus grande.\n",
    "Supposons que vous ayez besoin de réaliser une application qui prend en entrée, des noms\n",
    "de lieux du Burkina Faso, avec des informations telles que la latitude/longitude.\n",
    "Pour ce faire, nous décidons d'extraire ces informations à partir du server de référencement géoname\n",
    "(http://www.geonames.org/). Vous allez procéder de la façon suivante :\n"
   ]
  },
  {
   "cell_type": "markdown",
   "id": "7d9f3a8f-09f1-40d9-8b44-67c24adecc16",
   "metadata": {},
   "source": [
    "#### 1 - Exporter la base de données qui recense les informations sur le Burkina Faso (https://download.geonames.org/export/dump/)."
   ]
  },
  {
   "cell_type": "code",
   "execution_count": 1,
   "id": "b4344c24-910b-4059-93c0-66e0e77fef7e",
   "metadata": {},
   "outputs": [],
   "source": [
    "# Iportation des library nécessaire \n",
    "import requests\n",
    "import csv\n",
    "import zipfile\n",
    "import io\n",
    "import os\n",
    "import pandas as pd"
   ]
  },
  {
   "cell_type": "code",
   "execution_count": 2,
   "id": "3bf357a0-6db1-472e-9e36-40215559eaa0",
   "metadata": {},
   "outputs": [],
   "source": [
    "# Lien du serveur\n",
    "url = \"https://download.geonames.org/export/dump/BF.zip\""
   ]
  },
  {
   "cell_type": "markdown",
   "id": "9c4586f6-dc46-4d8d-a1a0-e73774bd590d",
   "metadata": {},
   "source": [
    "#### 2 - Télécharger le fichier zip correspondant"
   ]
  },
  {
   "cell_type": "code",
   "execution_count": 3,
   "id": "92e13731-c837-4b42-8de9-3c265ba368f1",
   "metadata": {},
   "outputs": [],
   "source": [
    "# Téléchargement et extraction du fichier ZIP\n",
    "zip_file_path = \"BF.zip\"\n",
    "extracted_folder = \"Data_BFA\"\n",
    "def Dow_and_extract_zip_file(url, zip_file_path):\n",
    "    try:\n",
    "        # Téléchargement du fichier ZIP\n",
    "        response = requests.get(url)\n",
    "        with open(zip_file_path, 'wb') as f:\n",
    "            f.write(response.content)\n",
    "\n",
    "        # Extraction du fichier ZIP\n",
    "        with zipfile.ZipFile(zip_file_path, 'r') as zip_ref:\n",
    "            zip_ref.extractall(extracted_folder)            \n",
    "\n",
    "        print(\"Extraction a été effectuée avec succès\")\n",
    "    except Exception as e:\n",
    "        print(\"Une erreur s'est produite lors du téléchargement et de l'extraction du fichier ZIP :\", e)\n"
   ]
  },
  {
   "cell_type": "code",
   "execution_count": 4,
   "id": "d8392156",
   "metadata": {},
   "outputs": [
    {
     "name": "stdout",
     "output_type": "stream",
     "text": [
      "Extraction a été effectuée avec succès\n"
     ]
    }
   ],
   "source": [
    "# Téléchargement et extraction du fichier ZIP\n",
    "Dow_and_extract_zip_file(url, zip_file_path)"
   ]
  },
  {
   "cell_type": "markdown",
   "id": "01fd9e8f",
   "metadata": {},
   "source": [
    "#### 3 - Appliquer les opérations de prétraitement et filtres nécessaires à ce fichier, pour ne garder que les colonnes correspondantes"
   ]
  },
  {
   "cell_type": "code",
   "execution_count": 5,
   "id": "a1581de1",
   "metadata": {},
   "outputs": [
    {
     "data": {
      "text/html": [
       "<div>\n",
       "<style scoped>\n",
       "    .dataframe tbody tr th:only-of-type {\n",
       "        vertical-align: middle;\n",
       "    }\n",
       "\n",
       "    .dataframe tbody tr th {\n",
       "        vertical-align: top;\n",
       "    }\n",
       "\n",
       "    .dataframe thead th {\n",
       "        text-align: right;\n",
       "    }\n",
       "</style>\n",
       "<table border=\"1\" class=\"dataframe\">\n",
       "  <thead>\n",
       "    <tr style=\"text-align: right;\">\n",
       "      <th></th>\n",
       "      <th>0</th>\n",
       "      <th>1</th>\n",
       "      <th>2</th>\n",
       "      <th>3</th>\n",
       "      <th>4</th>\n",
       "      <th>5</th>\n",
       "      <th>6</th>\n",
       "      <th>7</th>\n",
       "      <th>8</th>\n",
       "      <th>9</th>\n",
       "      <th>10</th>\n",
       "      <th>11</th>\n",
       "      <th>12</th>\n",
       "      <th>13</th>\n",
       "      <th>14</th>\n",
       "      <th>15</th>\n",
       "      <th>16</th>\n",
       "      <th>17</th>\n",
       "      <th>18</th>\n",
       "    </tr>\n",
       "  </thead>\n",
       "  <tbody>\n",
       "    <tr>\n",
       "      <th>0</th>\n",
       "      <td>2282318</td>\n",
       "      <td>Pouéné</td>\n",
       "      <td>Pouene</td>\n",
       "      <td>NaN</td>\n",
       "      <td>9.72908</td>\n",
       "      <td>-2.78660</td>\n",
       "      <td>H</td>\n",
       "      <td>STM</td>\n",
       "      <td>BF</td>\n",
       "      <td>NaN</td>\n",
       "      <td>00</td>\n",
       "      <td>NaN</td>\n",
       "      <td>NaN</td>\n",
       "      <td>NaN</td>\n",
       "      <td>0</td>\n",
       "      <td>NaN</td>\n",
       "      <td>226</td>\n",
       "      <td>Africa/Abidjan</td>\n",
       "      <td>2023-11-07</td>\n",
       "    </tr>\n",
       "    <tr>\n",
       "      <th>1</th>\n",
       "      <td>2285251</td>\n",
       "      <td>Léraba Occidentale</td>\n",
       "      <td>Leraba Occidentale</td>\n",
       "      <td>Badini,La Leraba Occidentale,Leraba,Leraba Occ...</td>\n",
       "      <td>10.28333</td>\n",
       "      <td>-5.11667</td>\n",
       "      <td>H</td>\n",
       "      <td>STM</td>\n",
       "      <td>BF</td>\n",
       "      <td>CI</td>\n",
       "      <td>00</td>\n",
       "      <td>NaN</td>\n",
       "      <td>NaN</td>\n",
       "      <td>NaN</td>\n",
       "      <td>0</td>\n",
       "      <td>NaN</td>\n",
       "      <td>283</td>\n",
       "      <td>Africa/Abidjan</td>\n",
       "      <td>2023-11-07</td>\n",
       "    </tr>\n",
       "    <tr>\n",
       "      <th>2</th>\n",
       "      <td>2287216</td>\n",
       "      <td>Kéléouoro</td>\n",
       "      <td>Keleouoro</td>\n",
       "      <td>Keleouoro,Keleworo,Kéléouoro,Kéléworo</td>\n",
       "      <td>9.80748</td>\n",
       "      <td>-4.05023</td>\n",
       "      <td>H</td>\n",
       "      <td>STM</td>\n",
       "      <td>BF</td>\n",
       "      <td>BF,CI</td>\n",
       "      <td>00</td>\n",
       "      <td>NaN</td>\n",
       "      <td>NaN</td>\n",
       "      <td>NaN</td>\n",
       "      <td>0</td>\n",
       "      <td>NaN</td>\n",
       "      <td>261</td>\n",
       "      <td>Africa/Abidjan</td>\n",
       "      <td>2023-11-07</td>\n",
       "    </tr>\n",
       "    <tr>\n",
       "      <th>3</th>\n",
       "      <td>2294066</td>\n",
       "      <td>White Volta</td>\n",
       "      <td>White Volta</td>\n",
       "      <td>Nakambe,Nakambé,Nakanbe,Nakanbé,Volta Blanche,...</td>\n",
       "      <td>8.70194</td>\n",
       "      <td>-0.99056</td>\n",
       "      <td>H</td>\n",
       "      <td>STM</td>\n",
       "      <td>BF</td>\n",
       "      <td>GH</td>\n",
       "      <td>00</td>\n",
       "      <td>NaN</td>\n",
       "      <td>NaN</td>\n",
       "      <td>NaN</td>\n",
       "      <td>0</td>\n",
       "      <td>NaN</td>\n",
       "      <td>75</td>\n",
       "      <td>Africa/Accra</td>\n",
       "      <td>2023-11-08</td>\n",
       "    </tr>\n",
       "    <tr>\n",
       "      <th>4</th>\n",
       "      <td>2298457</td>\n",
       "      <td>Issana Bouga</td>\n",
       "      <td>Issana Bouga</td>\n",
       "      <td>Issana Bouga,Lanyung,Lanyunga</td>\n",
       "      <td>10.91667</td>\n",
       "      <td>-1.18333</td>\n",
       "      <td>H</td>\n",
       "      <td>STM</td>\n",
       "      <td>BF</td>\n",
       "      <td>NaN</td>\n",
       "      <td>00</td>\n",
       "      <td>NaN</td>\n",
       "      <td>NaN</td>\n",
       "      <td>NaN</td>\n",
       "      <td>0</td>\n",
       "      <td>NaN</td>\n",
       "      <td>178</td>\n",
       "      <td>Africa/Accra</td>\n",
       "      <td>2023-11-08</td>\n",
       "    </tr>\n",
       "  </tbody>\n",
       "</table>\n",
       "</div>"
      ],
      "text/plain": [
       "        0                   1                   2   \\\n",
       "0  2282318              Pouéné              Pouene   \n",
       "1  2285251  Léraba Occidentale  Leraba Occidentale   \n",
       "2  2287216           Kéléouoro           Keleouoro   \n",
       "3  2294066         White Volta         White Volta   \n",
       "4  2298457        Issana Bouga        Issana Bouga   \n",
       "\n",
       "                                                  3         4        5  6   \\\n",
       "0                                                NaN   9.72908 -2.78660  H   \n",
       "1  Badini,La Leraba Occidentale,Leraba,Leraba Occ...  10.28333 -5.11667  H   \n",
       "2              Keleouoro,Keleworo,Kéléouoro,Kéléworo   9.80748 -4.05023  H   \n",
       "3  Nakambe,Nakambé,Nakanbe,Nakanbé,Volta Blanche,...   8.70194 -0.99056  H   \n",
       "4                      Issana Bouga,Lanyung,Lanyunga  10.91667 -1.18333  H   \n",
       "\n",
       "    7   8      9   10  11  12  13  14  15   16              17          18  \n",
       "0  STM  BF    NaN  00 NaN NaN NaN   0 NaN  226  Africa/Abidjan  2023-11-07  \n",
       "1  STM  BF     CI  00 NaN NaN NaN   0 NaN  283  Africa/Abidjan  2023-11-07  \n",
       "2  STM  BF  BF,CI  00 NaN NaN NaN   0 NaN  261  Africa/Abidjan  2023-11-07  \n",
       "3  STM  BF     GH  00 NaN NaN NaN   0 NaN   75    Africa/Accra  2023-11-08  \n",
       "4  STM  BF    NaN  00 NaN NaN NaN   0 NaN  178    Africa/Accra  2023-11-08  "
      ]
     },
     "execution_count": 5,
     "metadata": {},
     "output_type": "execute_result"
    }
   ],
   "source": [
    "bf_data = pd.read_csv(\"Data_BFA/BF.txt\", delimiter='\\t',header=None)\n",
    "bf_data.head()"
   ]
  },
  {
   "cell_type": "code",
   "execution_count": 6,
   "id": "89b3b2a1",
   "metadata": {},
   "outputs": [
    {
     "data": {
      "text/html": [
       "<div>\n",
       "<style scoped>\n",
       "    .dataframe tbody tr th:only-of-type {\n",
       "        vertical-align: middle;\n",
       "    }\n",
       "\n",
       "    .dataframe tbody tr th {\n",
       "        vertical-align: top;\n",
       "    }\n",
       "\n",
       "    .dataframe thead th {\n",
       "        text-align: right;\n",
       "    }\n",
       "</style>\n",
       "<table border=\"1\" class=\"dataframe\">\n",
       "  <thead>\n",
       "    <tr style=\"text-align: right;\">\n",
       "      <th></th>\n",
       "      <th>0</th>\n",
       "      <th>2</th>\n",
       "      <th>4</th>\n",
       "      <th>5</th>\n",
       "    </tr>\n",
       "  </thead>\n",
       "  <tbody>\n",
       "    <tr>\n",
       "      <th>0</th>\n",
       "      <td>2282318</td>\n",
       "      <td>Pouene</td>\n",
       "      <td>9.72908</td>\n",
       "      <td>-2.78660</td>\n",
       "    </tr>\n",
       "    <tr>\n",
       "      <th>1</th>\n",
       "      <td>2285251</td>\n",
       "      <td>Leraba Occidentale</td>\n",
       "      <td>10.28333</td>\n",
       "      <td>-5.11667</td>\n",
       "    </tr>\n",
       "    <tr>\n",
       "      <th>2</th>\n",
       "      <td>2287216</td>\n",
       "      <td>Keleouoro</td>\n",
       "      <td>9.80748</td>\n",
       "      <td>-4.05023</td>\n",
       "    </tr>\n",
       "    <tr>\n",
       "      <th>3</th>\n",
       "      <td>2294066</td>\n",
       "      <td>White Volta</td>\n",
       "      <td>8.70194</td>\n",
       "      <td>-0.99056</td>\n",
       "    </tr>\n",
       "    <tr>\n",
       "      <th>4</th>\n",
       "      <td>2298457</td>\n",
       "      <td>Issana Bouga</td>\n",
       "      <td>10.91667</td>\n",
       "      <td>-1.18333</td>\n",
       "    </tr>\n",
       "  </tbody>\n",
       "</table>\n",
       "</div>"
      ],
      "text/plain": [
       "         0                   2         4        5\n",
       "0  2282318              Pouene   9.72908 -2.78660\n",
       "1  2285251  Leraba Occidentale  10.28333 -5.11667\n",
       "2  2287216           Keleouoro   9.80748 -4.05023\n",
       "3  2294066         White Volta   8.70194 -0.99056\n",
       "4  2298457        Issana Bouga  10.91667 -1.18333"
      ]
     },
     "execution_count": 6,
     "metadata": {},
     "output_type": "execute_result"
    }
   ],
   "source": [
    "# Extraction des colonnes : ID, NAME, LONGITUDE, LATITUDE\n",
    "bf_data_interest= bf_data.loc[:,[0,2,4,5]]\n",
    "bf_data_interest.head()"
   ]
  },
  {
   "cell_type": "code",
   "execution_count": 7,
   "id": "866c74f7",
   "metadata": {},
   "outputs": [
    {
     "data": {
      "text/plain": [
       "(11713, 4)"
      ]
     },
     "execution_count": 7,
     "metadata": {},
     "output_type": "execute_result"
    }
   ],
   "source": [
    "bf_data_interest.shape"
   ]
  },
  {
   "cell_type": "code",
   "execution_count": 8,
   "id": "d132f6b0",
   "metadata": {},
   "outputs": [
    {
     "data": {
      "text/html": [
       "<div>\n",
       "<style scoped>\n",
       "    .dataframe tbody tr th:only-of-type {\n",
       "        vertical-align: middle;\n",
       "    }\n",
       "\n",
       "    .dataframe tbody tr th {\n",
       "        vertical-align: top;\n",
       "    }\n",
       "\n",
       "    .dataframe thead th {\n",
       "        text-align: right;\n",
       "    }\n",
       "</style>\n",
       "<table border=\"1\" class=\"dataframe\">\n",
       "  <thead>\n",
       "    <tr style=\"text-align: right;\">\n",
       "      <th></th>\n",
       "      <th>ID</th>\n",
       "      <th>location_name</th>\n",
       "      <th>lat</th>\n",
       "      <th>long</th>\n",
       "    </tr>\n",
       "  </thead>\n",
       "  <tbody>\n",
       "    <tr>\n",
       "      <th>0</th>\n",
       "      <td>2282318</td>\n",
       "      <td>Pouene</td>\n",
       "      <td>9.72908</td>\n",
       "      <td>-2.78660</td>\n",
       "    </tr>\n",
       "    <tr>\n",
       "      <th>1</th>\n",
       "      <td>2285251</td>\n",
       "      <td>Leraba Occidentale</td>\n",
       "      <td>10.28333</td>\n",
       "      <td>-5.11667</td>\n",
       "    </tr>\n",
       "    <tr>\n",
       "      <th>2</th>\n",
       "      <td>2287216</td>\n",
       "      <td>Keleouoro</td>\n",
       "      <td>9.80748</td>\n",
       "      <td>-4.05023</td>\n",
       "    </tr>\n",
       "    <tr>\n",
       "      <th>3</th>\n",
       "      <td>2294066</td>\n",
       "      <td>White Volta</td>\n",
       "      <td>8.70194</td>\n",
       "      <td>-0.99056</td>\n",
       "    </tr>\n",
       "    <tr>\n",
       "      <th>4</th>\n",
       "      <td>2298457</td>\n",
       "      <td>Issana Bouga</td>\n",
       "      <td>10.91667</td>\n",
       "      <td>-1.18333</td>\n",
       "    </tr>\n",
       "  </tbody>\n",
       "</table>\n",
       "</div>"
      ],
      "text/plain": [
       "        ID       location_name       lat     long\n",
       "0  2282318              Pouene   9.72908 -2.78660\n",
       "1  2285251  Leraba Occidentale  10.28333 -5.11667\n",
       "2  2287216           Keleouoro   9.80748 -4.05023\n",
       "3  2294066         White Volta   8.70194 -0.99056\n",
       "4  2298457        Issana Bouga  10.91667 -1.18333"
      ]
     },
     "execution_count": 8,
     "metadata": {},
     "output_type": "execute_result"
    }
   ],
   "source": [
    "bf_data_interest.columns=['ID', 'location_name', 'lat', 'long']\n",
    "bf_data_interest.head()"
   ]
  },
  {
   "cell_type": "code",
   "execution_count": 9,
   "id": "87fcfcc1",
   "metadata": {},
   "outputs": [],
   "source": [
    "bf_data_interest.to_csv(\"burkina_location.csv\",index=False)"
   ]
  },
  {
   "cell_type": "markdown",
   "id": "17b37be3",
   "metadata": {},
   "source": [
    "#### 4 - Opérations sur le fichier CSV burkina_location.csv."
   ]
  },
  {
   "cell_type": "code",
   "execution_count": 10,
   "id": "c7aac185",
   "metadata": {},
   "outputs": [
    {
     "data": {
      "text/html": [
       "<div>\n",
       "<style scoped>\n",
       "    .dataframe tbody tr th:only-of-type {\n",
       "        vertical-align: middle;\n",
       "    }\n",
       "\n",
       "    .dataframe tbody tr th {\n",
       "        vertical-align: top;\n",
       "    }\n",
       "\n",
       "    .dataframe thead th {\n",
       "        text-align: right;\n",
       "    }\n",
       "</style>\n",
       "<table border=\"1\" class=\"dataframe\">\n",
       "  <thead>\n",
       "    <tr style=\"text-align: right;\">\n",
       "      <th></th>\n",
       "      <th>ID</th>\n",
       "      <th>location_name</th>\n",
       "      <th>lat</th>\n",
       "      <th>long</th>\n",
       "    </tr>\n",
       "  </thead>\n",
       "  <tbody>\n",
       "    <tr>\n",
       "      <th>0</th>\n",
       "      <td>2282318</td>\n",
       "      <td>Pouene</td>\n",
       "      <td>9.72908</td>\n",
       "      <td>-2.78660</td>\n",
       "    </tr>\n",
       "    <tr>\n",
       "      <th>1</th>\n",
       "      <td>2285251</td>\n",
       "      <td>Leraba Occidentale</td>\n",
       "      <td>10.28333</td>\n",
       "      <td>-5.11667</td>\n",
       "    </tr>\n",
       "    <tr>\n",
       "      <th>2</th>\n",
       "      <td>2287216</td>\n",
       "      <td>Keleouoro</td>\n",
       "      <td>9.80748</td>\n",
       "      <td>-4.05023</td>\n",
       "    </tr>\n",
       "    <tr>\n",
       "      <th>3</th>\n",
       "      <td>2294066</td>\n",
       "      <td>White Volta</td>\n",
       "      <td>8.70194</td>\n",
       "      <td>-0.99056</td>\n",
       "    </tr>\n",
       "    <tr>\n",
       "      <th>4</th>\n",
       "      <td>2298457</td>\n",
       "      <td>Issana Bouga</td>\n",
       "      <td>10.91667</td>\n",
       "      <td>-1.18333</td>\n",
       "    </tr>\n",
       "  </tbody>\n",
       "</table>\n",
       "</div>"
      ],
      "text/plain": [
       "        ID       location_name       lat     long\n",
       "0  2282318              Pouene   9.72908 -2.78660\n",
       "1  2285251  Leraba Occidentale  10.28333 -5.11667\n",
       "2  2287216           Keleouoro   9.80748 -4.05023\n",
       "3  2294066         White Volta   8.70194 -0.99056\n",
       "4  2298457        Issana Bouga  10.91667 -1.18333"
      ]
     },
     "execution_count": 10,
     "metadata": {},
     "output_type": "execute_result"
    }
   ],
   "source": [
    "# Chargement des données\n",
    "burkina_location = pd.read_csv(\"burkina_location.csv\",index_col=None)\n",
    "\n",
    "#Visualisation des 5 première lignes\n",
    "burkina_location.head()"
   ]
  },
  {
   "cell_type": "markdown",
   "id": "196077c0",
   "metadata": {},
   "source": [
    "##### 4.1 Extraire les données contenant le nom 'gounghin', enregistrez-le sous le fichier gounghin.csv"
   ]
  },
  {
   "cell_type": "code",
   "execution_count": 11,
   "id": "ba4e64d7",
   "metadata": {},
   "outputs": [
    {
     "data": {
      "text/html": [
       "<div>\n",
       "<style scoped>\n",
       "    .dataframe tbody tr th:only-of-type {\n",
       "        vertical-align: middle;\n",
       "    }\n",
       "\n",
       "    .dataframe tbody tr th {\n",
       "        vertical-align: top;\n",
       "    }\n",
       "\n",
       "    .dataframe thead th {\n",
       "        text-align: right;\n",
       "    }\n",
       "</style>\n",
       "<table border=\"1\" class=\"dataframe\">\n",
       "  <thead>\n",
       "    <tr style=\"text-align: right;\">\n",
       "      <th></th>\n",
       "      <th>ID</th>\n",
       "      <th>location_name</th>\n",
       "      <th>lat</th>\n",
       "      <th>long</th>\n",
       "    </tr>\n",
       "  </thead>\n",
       "  <tbody>\n",
       "    <tr>\n",
       "      <th>153</th>\n",
       "      <td>2353306</td>\n",
       "      <td>Gounghin</td>\n",
       "      <td>12.06677</td>\n",
       "      <td>-1.42134</td>\n",
       "    </tr>\n",
       "    <tr>\n",
       "      <th>7270</th>\n",
       "      <td>2360473</td>\n",
       "      <td>Gounghin</td>\n",
       "      <td>12.62488</td>\n",
       "      <td>-1.36398</td>\n",
       "    </tr>\n",
       "    <tr>\n",
       "      <th>10259</th>\n",
       "      <td>2570204</td>\n",
       "      <td>Gounghin</td>\n",
       "      <td>12.31436</td>\n",
       "      <td>-1.37900</td>\n",
       "    </tr>\n",
       "    <tr>\n",
       "      <th>10745</th>\n",
       "      <td>10342749</td>\n",
       "      <td>Gounghin</td>\n",
       "      <td>12.06667</td>\n",
       "      <td>-0.15000</td>\n",
       "    </tr>\n",
       "    <tr>\n",
       "      <th>10758</th>\n",
       "      <td>10629032</td>\n",
       "      <td>BICIAB // Gounghin</td>\n",
       "      <td>12.35921</td>\n",
       "      <td>-1.54273</td>\n",
       "    </tr>\n",
       "  </tbody>\n",
       "</table>\n",
       "</div>"
      ],
      "text/plain": [
       "             ID       location_name       lat     long\n",
       "153     2353306            Gounghin  12.06677 -1.42134\n",
       "7270    2360473            Gounghin  12.62488 -1.36398\n",
       "10259   2570204            Gounghin  12.31436 -1.37900\n",
       "10745  10342749            Gounghin  12.06667 -0.15000\n",
       "10758  10629032  BICIAB // Gounghin  12.35921 -1.54273"
      ]
     },
     "execution_count": 11,
     "metadata": {},
     "output_type": "execute_result"
    }
   ],
   "source": [
    "# Filtrer les lignes contenant le nom 'gounghin'\n",
    "gounghin_df = burkina_location[burkina_location['location_name'].str.contains('gounghin', case=False)]\n",
    "gounghin_df.head()"
   ]
  },
  {
   "cell_type": "code",
   "execution_count": 12,
   "id": "5f0f3453",
   "metadata": {},
   "outputs": [
    {
     "data": {
      "text/plain": [
       "(10, 4)"
      ]
     },
     "execution_count": 12,
     "metadata": {},
     "output_type": "execute_result"
    }
   ],
   "source": [
    "gounghin_df.shape"
   ]
  },
  {
   "cell_type": "code",
   "execution_count": 13,
   "id": "c63b49e0",
   "metadata": {},
   "outputs": [],
   "source": [
    "# Enregistrement sous le fichier gounghin.csv\n",
    "gounghin_df.to_csv(\"gounghin.csv\", index=False)"
   ]
  },
  {
   "cell_type": "markdown",
   "id": "1b081871",
   "metadata": {},
   "source": [
    "##### 4.2 extraire la sous-partie de la base de données (fichier burkina_location.csv), dont les noms les premières lettres des noms de lieux sont compris entre 'A' et 'P' (ordre alphabétique)"
   ]
  },
  {
   "cell_type": "code",
   "execution_count": 14,
   "id": "b64d8848",
   "metadata": {},
   "outputs": [
    {
     "name": "stdout",
     "output_type": "stream",
     "text": [
      "             ID        location_name       lat     long\n",
      "10647   6913771               Abanda  15.06808 -0.59805\n",
      "10032   2363251               Abanga  13.32429  0.31151\n",
      "11092  11980339               Abassi  12.27728 -1.13662\n",
      "10600   6874881                Abaye  13.44080 -3.90190\n",
      "10031   2363250             Aberekui  12.50000 -3.41667\n",
      "...         ...                  ...       ...      ...\n",
      "10390   2597270  Province du Zondoma  13.18333 -2.36667\n",
      "3118    2356291              Pwedogo  12.67657 -1.86640\n",
      "3117    2356290                Pwiga  14.42583 -0.50691\n",
      "3116    2356289             Pyeongou  12.11667  0.55000\n",
      "3114    2356287             Pyourgou  12.25000 -0.46667\n",
      "\n",
      "[8134 rows x 4 columns]\n"
     ]
    }
   ],
   "source": [
    "location_names_A_to_P = (burkina_location[burkina_location['location_name'].str[0].str.upper().between('A', 'P')]).sort_values(by='location_name')\n",
    "print(location_names_A_to_P)"
   ]
  },
  {
   "cell_type": "markdown",
   "id": "607285f6",
   "metadata": {},
   "source": [
    "#### 4.3 Identifiez respectivement, la latitude, la longitude minimale et les noms de lieux correspondants"
   ]
  },
  {
   "cell_type": "markdown",
   "id": "bfe027cf",
   "metadata": {},
   "source": [
    "###### * Latitude minimale et lieu correspondant"
   ]
  },
  {
   "cell_type": "code",
   "execution_count": 15,
   "id": "30c05898",
   "metadata": {},
   "outputs": [
    {
     "name": "stdout",
     "output_type": "stream",
     "text": [
      "lat              5.21609\n",
      "location_name      Komoe\n",
      "Name: 6018, dtype: object\n"
     ]
    }
   ],
   "source": [
    "# Indice de la latitude minimale\n",
    "idx_min_lat = burkina_location['lat'].idxmin()\n",
    "\n",
    "# Latitude minimale et nom de la localité correspndant\n",
    "min_lat_and_loc_name = burkina_location.loc[idx_min_lat, ['lat','location_name']]\n",
    "print(min_lat_and_loc_name)"
   ]
  },
  {
   "cell_type": "markdown",
   "id": "683fc54e",
   "metadata": {},
   "source": [
    "###### * longitude minimale et lieu correspondant"
   ]
  },
  {
   "cell_type": "code",
   "execution_count": 16,
   "id": "9b316c11",
   "metadata": {},
   "outputs": [
    {
     "name": "stdout",
     "output_type": "stream",
     "text": [
      "long             -5.65968\n",
      "location_name    Banifing\n",
      "Name: 4221, dtype: object\n"
     ]
    }
   ],
   "source": [
    "# Indice de la latitude minimale\n",
    "idx_min_lon = burkina_location['long'].idxmin()\n",
    "\n",
    "# Latitude minimale et nom de la localité correspndant\n",
    "min_long_and_loc_name = burkina_location.loc[idx_min_lon, ['long','location_name']]\n",
    "print(min_long_and_loc_name)"
   ]
  },
  {
   "cell_type": "markdown",
   "id": "8a26c591",
   "metadata": {},
   "source": [
    "#### 4.4 Quels sont les lieux dont les coordonnées sont comprises entre (lat >= 11 et lon <= 0.5)\n"
   ]
  },
  {
   "cell_type": "code",
   "execution_count": 17,
   "id": "4297ee15",
   "metadata": {},
   "outputs": [
    {
     "name": "stdout",
     "output_type": "stream",
     "text": [
      "             ID    location_name       lat     long\n",
      "5       2353158         Zyonguen  12.36667 -0.45000\n",
      "6       2353159        Zyiliwele  12.38333 -2.73333\n",
      "7       2353160           Zyanko  12.78333 -0.41667\n",
      "8       2353161            Zouta  13.14908 -1.28197\n",
      "9       2353162        Zourtenga  12.95741 -1.28745\n",
      "...         ...              ...       ...      ...\n",
      "11706  12687046         Monde-So  14.20081 -1.63983\n",
      "11707  12688694          Yerfing  11.33747 -3.35025\n",
      "11709  12688713  Tinonguen-Peulh  11.64924 -0.22063\n",
      "11711  12720016            Yimdi  12.31014 -1.66322\n",
      "11712  12746364           Dabogo  11.49058  0.12698\n",
      "\n",
      "[9282 rows x 4 columns]\n"
     ]
    }
   ],
   "source": [
    "lieu_lat_sup11_lon_inf05 = burkina_location[(burkina_location['lat'] >= 11) & (burkina_location['long'] <= 0.5)]\n",
    "print(lieu_lat_sup11_lon_inf05)"
   ]
  },
  {
   "cell_type": "markdown",
   "id": "7dbe94a4",
   "metadata": {},
   "source": [
    "#### 5. Sorties Excel"
   ]
  },
  {
   "cell_type": "markdown",
   "id": "90f8df89",
   "metadata": {},
   "source": [
    "À partir des extractions de l'étape 4 :\n",
    "- Créer un fichier Excel et nommer le : mini_projet\n",
    "- Créer une feuille dans ce fichier, du nom gounghin et enregistrer les données contenant le nom 'gounghin' obtenues dans 4.1\n",
    "- Créer une second feuille dans ce même fichier, du nom A_to_P et enregistrer les données de 4.2"
   ]
  },
  {
   "cell_type": "code",
   "execution_count": 18,
   "id": "7cd4a7a5",
   "metadata": {},
   "outputs": [],
   "source": [
    "# Créer un fichier Excel et nommer le : mini_projet\n",
    "writer = pd.ExcelWriter(\"mini_projet.xlsx\", engine='xlsxwriter')\n",
    "\n",
    "#Créer une feuille dans ce fichier, du nom gounghin et enregistrer les données contenant le nom 'gounghin' obtenues dans 4.1\n",
    "gounghin_df.to_excel(writer, sheet_name='gounghin', index=False)\n",
    "\n",
    "# Écrire les données filtrées dans une feuille nommée 'A_to_P'\n",
    "location_names_A_to_P.to_excel(writer, sheet_name='A_to_P', index=False)\n",
    "\n",
    "writer.close()\n"
   ]
  }
 ],
 "metadata": {
  "kernelspec": {
   "display_name": "Python 3 (ipykernel)",
   "language": "python",
   "name": "python3"
  },
  "language_info": {
   "codemirror_mode": {
    "name": "ipython",
    "version": 3
   },
   "file_extension": ".py",
   "mimetype": "text/x-python",
   "name": "python",
   "nbconvert_exporter": "python",
   "pygments_lexer": "ipython3",
   "version": "3.11.3"
  },
  "widgets": {
   "application/vnd.jupyter.widget-state+json": {
    "state": {},
    "version_major": 2,
    "version_minor": 0
   }
  }
 },
 "nbformat": 4,
 "nbformat_minor": 5
}
